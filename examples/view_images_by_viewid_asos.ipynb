{
 "cells": [
  {
   "cell_type": "code",
   "execution_count": null,
   "id": "7aadd0c3",
   "metadata": {},
   "outputs": [],
   "source": [
    "from fashionscrapper.utils.io import Json_DB\n",
    "from pathlib import Path\n",
    "import pandas as pd\n",
    "import cv2\n",
    "from matplotlib import pyplot as plt\n",
    "from random import shuffle\n",
    "import numpy as np\n",
    "from collections import defaultdict"
   ]
  },
  {
   "cell_type": "code",
   "execution_count": null,
   "id": "64885f0e",
   "metadata": {},
   "outputs": [],
   "source": [
    "BASE_PATH = r\"F:\\workspace\\datasets\\own\"\n",
    "entries_path = Path(BASE_PATH, \"entires.json\")"
   ]
  },
  {
   "cell_type": "code",
   "execution_count": null,
   "id": "23865725",
   "metadata": {},
   "outputs": [],
   "source": [
    "def entries_to_json(entries_path, force=False):\n",
    "    with Json_DB(entries_path) as db:\n",
    "        return db.all()\n",
    "    \n",
    "def filter_by_brand(lst, brand):\n",
    "    return filter(lambda d: d[\"brand\"] == brand, lst)\n",
    "\n",
    "entries = entries_to_json(entries_path)\n",
    "\n",
    "def flatten(a):\n",
    "    return [item for sublist in a for item in sublist]\n",
    "\n",
    "def plot_images(images, title):\n",
    "    print(\"*\"*32, title , \"*\" * 32)\n",
    "    plt.figure(figsize=(20,20))\n",
    "    for idx, img in enumerate(images):\n",
    "        plt.subplot(cols, rows, idx+1)    \n",
    "        plt.axis('off')\n",
    "        plt.imshow(cv2.imread(str(img)))\n",
    "\n",
    "    plt.subplots_adjust(wspace=0, hspace=0)\n",
    "    plt.show()"
   ]
  },
  {
   "cell_type": "code",
   "execution_count": null,
   "id": "d02ae6e7",
   "metadata": {},
   "outputs": [],
   "source": [
    "# Check ASOS"
   ]
  },
  {
   "cell_type": "code",
   "execution_count": null,
   "id": "e68d1f4e",
   "metadata": {
    "scrolled": true
   },
   "outputs": [],
   "source": [
    "def clean_view(view):\n",
    "    view = view.split(\",\")[-1].strip()\n",
    "    \n",
    "    view = view.replace(\"Thumbnail\", \"\").strip()\n",
    "    \n",
    "    if \"of\" in view:\n",
    "        view = view.split(\"of\")[0].strip()\n",
    "    \n",
    "    if len(view) < 3:\n",
    "        return view    \n",
    "    return \"-1\"\n",
    "\n",
    "asos_items = list(filter_by_brand(entries, \"Asos\"))\n",
    "asos_image_list = flatten(map(lambda d: d[\"images\"], asos_items))\n",
    "asos_images = map(lambda d: (d[\"path\"], d[\"description\"]), asos_image_list)\n",
    "asos_images = map(lambda d: (d[0], d[1], clean_view(d[1])), asos_images)\n",
    "asos_images = list(asos_images)\n",
    "\n",
    "print(len(asos_items),\"\\t Items\")\n",
    "print(len(asos_images), \"\\t Images\")\n",
    "\n",
    "\n",
    "images_by_view = defaultdict(lambda: [])\n",
    "\n",
    "for path, desc_full, desc in asos_images:\n",
    "    images_by_view[desc].append((path, desc_full))\n",
    "    \n",
    "#images_by_view = sorted(images_by_view.items(), key=lambda x: x[1], reverse=True)\n",
    "\n",
    "print(len(images_by_view), \"\\t 'Viewpoints'\")"
   ]
  },
  {
   "cell_type": "code",
   "execution_count": null,
   "id": "1abacf94",
   "metadata": {},
   "outputs": [],
   "source": [
    "select_view_id = 0\n",
    "view_name, images = images_by_view[select_view_id]\n",
    "images = map(lambda d: d[0], images) #<- remove desc\n",
    "images = list(images)\n",
    "shuffle(images)"
   ]
  },
  {
   "cell_type": "code",
   "execution_count": null,
   "id": "2ab4be9c",
   "metadata": {},
   "outputs": [],
   "source": [
    "images_by_view.items()"
   ]
  },
  {
   "cell_type": "code",
   "execution_count": null,
   "id": "236ebfb7",
   "metadata": {},
   "outputs": [],
   "source": [
    "\n",
    "\n",
    "def plot_view_examples(images_by_view, idx):    \n",
    "    view_name, images = images_by_view[idx]\n",
    "    images = map(lambda d: d[0], images)\n",
    "    images = list(images)\n",
    "    shuffle(images)\n",
    "    \n",
    "    images = images[:100]\n",
    "    plot_images(images,view_name)"
   ]
  },
  {
   "cell_type": "code",
   "execution_count": null,
   "id": "284680e1",
   "metadata": {},
   "outputs": [],
   "source": [
    "errors = []\n",
    "for view, paths in images_by_view.items():\n",
    "    shuffle(paths)\n",
    "    paths = paths[:100]\n",
    "    try:\n",
    "        plot_images(paths, view)\n",
    "    except:\n",
    "        errors.append((view, paths))\n",
    "        \n",
    "for error in errors:\n",
    "    print(\"Failed-View\", error[0])"
   ]
  },
  {
   "cell_type": "code",
   "execution_count": null,
   "id": "1b5a788b",
   "metadata": {},
   "outputs": [],
   "source": [
    "# Mango"
   ]
  },
  {
   "cell_type": "code",
   "execution_count": null,
   "id": "afb57705",
   "metadata": {},
   "outputs": [],
   "source": [
    "mango_items = list(filter_by_brand(entries, \"Mango\"))\n",
    "mango_image_list = flatten(map(lambda d: d[\"images\"], mango_items))\n",
    "mango_images = map(lambda d: (d[\"path\"], d[\"description\"]), mango_image_list)\n",
    "mango_images = list(mango_images)"
   ]
  },
  {
   "cell_type": "code",
   "execution_count": null,
   "id": "583b3a6e",
   "metadata": {},
   "outputs": [],
   "source": [
    "images_by_view = defaultdict(lambda: [])\n",
    "for path, view in mango_images:\n",
    "    images_by_view[view].append(path)"
   ]
  },
  {
   "cell_type": "code",
   "execution_count": null,
   "id": "a7151979",
   "metadata": {},
   "outputs": [],
   "source": [
    "errors = []\n",
    "for view, paths in images_by_view.items():\n",
    "    shuffle(paths)\n",
    "    paths = paths[:100]\n",
    "    try:\n",
    "        plot_images(paths, view)\n",
    "    except:\n",
    "        errors.append((view, paths))\n",
    "        \n",
    "for error in errors:\n",
    "    print(\"Failed-View\", error[0])"
   ]
  },
  {
   "cell_type": "code",
   "execution_count": null,
   "id": "ee2d47ed",
   "metadata": {},
   "outputs": [],
   "source": [
    "# HM"
   ]
  },
  {
   "cell_type": "code",
   "execution_count": null,
   "id": "eb9e1f44",
   "metadata": {},
   "outputs": [],
   "source": [
    "#def flatten_images(d):\n",
    "#    return [{\"path\":item[\"path\"], \"description\" : str(idx)} for idx, item in enumerate(d)]\n",
    "hm_items = list(filter_by_brand(entries, \"HM\"))\n",
    "hm_itemimgs = map(lambda d: d[\"images\"], hm_items)\n",
    "#hm_itemimgs = map(flatten_images, hm_itemimgs)\n",
    "hm_images = flatten(hm_itemimgs)\n",
    "#hm_image_list = flatten()\n",
    "#hm_images = map(lambda d: (d[\"path\"], d[\"description\"]), hm_image_list)\n",
    "#hm_images = map(lambda d: (d[0], d[1], clean_view(d[1])), hm_images)\n",
    "#hm_images = list(hm_images)\n",
    "view_by_id = defaultdict(lambda: [])\n",
    "\n",
    "for d in hm_images:\n",
    "    view_by_id[d[\"description\"]].append(d[\"path\"])"
   ]
  },
  {
   "cell_type": "code",
   "execution_count": null,
   "id": "680ebbff",
   "metadata": {},
   "outputs": [],
   "source": [
    "view_by_id[0]"
   ]
  },
  {
   "cell_type": "code",
   "execution_count": null,
   "id": "2610e4ae",
   "metadata": {},
   "outputs": [],
   "source": [
    "for view, paths in view_by_id.items():\n",
    "    print(\"View:\", view, \"Items:\", len(paths))"
   ]
  },
  {
   "cell_type": "code",
   "execution_count": null,
   "id": "b374efe8",
   "metadata": {},
   "outputs": [],
   "source": [
    "errors = []\n",
    "for view, paths in view_by_id.items():\n",
    "    shuffle(paths)\n",
    "    paths = paths[:100]\n",
    "    try:\n",
    "        plot_images(paths, view)\n",
    "    except:\n",
    "        errors.append((view, paths))\n",
    "        \n",
    "for error in errors:\n",
    "    print(\"Failed-View\", error[0])"
   ]
  },
  {
   "cell_type": "code",
   "execution_count": null,
   "id": "0dec3db8",
   "metadata": {},
   "outputs": [],
   "source": [
    "4-11 <- raus"
   ]
  },
  {
   "cell_type": "code",
   "execution_count": null,
   "id": "2179a836",
   "metadata": {},
   "outputs": [],
   "source": []
  }
 ],
 "metadata": {
  "kernelspec": {
   "display_name": "Python 3",
   "language": "python",
   "name": "python3"
  },
  "language_info": {
   "codemirror_mode": {
    "name": "ipython",
    "version": 3
   },
   "file_extension": ".py",
   "mimetype": "text/x-python",
   "name": "python",
   "nbconvert_exporter": "python",
   "pygments_lexer": "ipython3",
   "version": "3.8.8"
  }
 },
 "nbformat": 4,
 "nbformat_minor": 5
}
